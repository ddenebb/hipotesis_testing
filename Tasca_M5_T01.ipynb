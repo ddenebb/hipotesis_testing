{
  "nbformat": 4,
  "nbformat_minor": 0,
  "metadata": {
    "colab": {
      "provenance": [],
      "mount_file_id": "1z48HGlstNQzhrlAmuN6LWwlAT5i6uhzV",
      "authorship_tag": "ABX9TyMBS66Wl09ip1Koo5w5rPW5",
      "include_colab_link": true
    },
    "kernelspec": {
      "name": "python3",
      "display_name": "Python 3"
    },
    "language_info": {
      "name": "python"
    }
  },
  "cells": [
    {
      "cell_type": "markdown",
      "metadata": {
        "id": "view-in-github",
        "colab_type": "text"
      },
      "source": [
        "<a href=\"https://colab.research.google.com/github/ddenebb/hipotesis_testing/blob/main/Tasca_M5_T01.ipynb\" target=\"_parent\"><img src=\"https://colab.research.google.com/assets/colab-badge.svg\" alt=\"Open In Colab\"/></a>"
      ]
    },
    {
      "cell_type": "markdown",
      "source": [
        "#Hypothesis Testing exercises.\n",
        "#- Exercise 1\n",
        "\n",
        "Download the attached dataset of official UEFA data and select an attribute from the dataset. Calculate the p-value and say whether it rejects the null hypothesis by taking an alpha of 5%."
      ],
      "metadata": {
        "id": "xGlt434G5_RA"
      }
    },
    {
      "cell_type": "code",
      "source": [
        "from google.colab import drive\n",
        "drive.mount('/content/drive')\n",
        "images_dir = '/content/gdrive/My Drive/Images'"
      ],
      "metadata": {
        "colab": {
          "base_uri": "https://localhost:8080/"
        },
        "id": "YCahNeLegMdD",
        "outputId": "0fd117b0-42cc-4173-a6fa-8660f8af0f33"
      },
      "execution_count": 1,
      "outputs": [
        {
          "output_type": "stream",
          "name": "stdout",
          "text": [
            "Drive already mounted at /content/drive; to attempt to forcibly remount, call drive.mount(\"/content/drive\", force_remount=True).\n"
          ]
        }
      ]
    },
    {
      "cell_type": "code",
      "execution_count": 2,
      "metadata": {
        "colab": {
          "base_uri": "https://localhost:8080/",
          "height": 927
        },
        "id": "b7SF-QnO4sJM",
        "outputId": "eced3e8a-4a22-4500-ca09-9391c34dcea5"
      },
      "outputs": [
        {
          "output_type": "stream",
          "name": "stdout",
          "text": [
            "<class 'pandas.core.frame.DataFrame'>\n",
            "RangeIndex: 98 entries, 0 to 97\n",
            "Data columns (total 21 columns):\n",
            " #   Column           Non-Null Count  Dtype  \n",
            "---  ------           --------------  -----  \n",
            " 0   Rk               98 non-null     int64  \n",
            " 1   Squad            98 non-null     object \n",
            " 2   Country          98 non-null     object \n",
            " 3   LgRk             98 non-null     int64  \n",
            " 4   MP               98 non-null     int64  \n",
            " 5   W                98 non-null     int64  \n",
            " 6   D                98 non-null     int64  \n",
            " 7   L                98 non-null     int64  \n",
            " 8   GF               98 non-null     int64  \n",
            " 9   GA               98 non-null     int64  \n",
            " 10  GD               98 non-null     int64  \n",
            " 11  Pts              98 non-null     int64  \n",
            " 12  Pts/G            98 non-null     float64\n",
            " 13  xG               98 non-null     float64\n",
            " 14  xGA              98 non-null     float64\n",
            " 15  xGD              98 non-null     float64\n",
            " 16  xGD/90           98 non-null     float64\n",
            " 17  Last 5           98 non-null     object \n",
            " 18  Attendance       98 non-null     int64  \n",
            " 19  Top Team Scorer  98 non-null     object \n",
            " 20  Goalkeeper       98 non-null     object \n",
            "dtypes: float64(5), int64(11), object(5)\n",
            "memory usage: 45.8 KB\n",
            "None\n"
          ]
        },
        {
          "output_type": "execute_result",
          "data": {
            "text/plain": [
              "    Rk            Squad Country  LgRk  MP   W   D   L  GF  GA  ...  Pts  \\\n",
              "0    1  Manchester City     ENG     1  37  28   6   3  96  24  ...   90   \n",
              "1    2        Liverpool     ENG     2  36  26   8   2  89  24  ...   86   \n",
              "2    3      Real Madrid     ESP     1  37  26   7   4  80  31  ...   85   \n",
              "3    4    Bayern Munich     GER     1  34  24   5   5  97  37  ...   77   \n",
              "4    5        Paris S-G     FRA     1  37  25   8   4  85  36  ...   83   \n",
              "..  ..              ...     ...   ...  ..  ..  ..  ..  ..  ..  ...  ...   \n",
              "93  94         Bordeaux     FRA    20  37   5  13  19  48  89  ...   28   \n",
              "94  95          Venezia     ITA    20  37   6   8  23  34  69  ...   26   \n",
              "95  96          Watford     ENG    19  37   6   5  26  33  75  ...   23   \n",
              "96  97     Norwich City     ENG    20  37   5   7  25  23  79  ...   22   \n",
              "97  98   Greuther Fürth     GER    18  34   3   9  22  28  82  ...   18   \n",
              "\n",
              "    Pts/G    xG   xGA   xGD  xGD/90     Last 5 Attendance  \\\n",
              "0    2.43  86.1  26.8  59.3    1.60  W W W W D      52739   \n",
              "1    2.39  84.6  33.1  51.4    1.43  W W W D W      53367   \n",
              "2    2.30  73.0  45.8  27.2    0.73  W W L W D      40624   \n",
              "3    2.26  88.1  37.1  51.0    1.50  W W L D D      33176   \n",
              "4    2.24  71.6  38.1  33.4    0.90  W D D D W      41188   \n",
              "..    ...   ...   ...   ...     ...        ...        ...   \n",
              "93   0.76  41.3  68.5 -27.2   -0.73  D L L L D      22083   \n",
              "94   0.70  35.4  70.5 -35.1   -0.95  L L L W D       6705   \n",
              "95   0.62  37.8  64.1 -26.3   -0.71  L L L D L      20614   \n",
              "96   0.59  33.0  73.3 -40.4   -1.09  L L L L D      26826   \n",
              "97   0.53  30.7  60.3 -29.6   -0.87  D L D L L       7672   \n",
              "\n",
              "            Top Team Scorer        Goalkeeper  \n",
              "0      Kevin De Bruyne - 15           Ederson  \n",
              "1        Mohamed Salah - 22           Alisson  \n",
              "2        Karim Benzema - 27  Thibaut Courtois  \n",
              "3   Robert Lewandowski - 35      Manuel Neuer  \n",
              "4        Kylian Mbappé - 25      Keylor Navas  \n",
              "..                      ...               ...  \n",
              "93         Hwang Ui-jo - 11     Benoît Costil  \n",
              "94         Thomas Henry - 9     Sergio Romero  \n",
              "95     Emmanuel Dennis - 10        Ben Foster  \n",
              "96         Teemu Pukki - 11          Tim Krul  \n",
              "97      Branimir Hrgota - 9   Sascha Burchert  \n",
              "\n",
              "[98 rows x 21 columns]"
            ],
            "text/html": [
              "\n",
              "  <div id=\"df-c9fc3cd2-2ffa-400b-9246-44da6f96cc1f\">\n",
              "    <div class=\"colab-df-container\">\n",
              "      <div>\n",
              "<style scoped>\n",
              "    .dataframe tbody tr th:only-of-type {\n",
              "        vertical-align: middle;\n",
              "    }\n",
              "\n",
              "    .dataframe tbody tr th {\n",
              "        vertical-align: top;\n",
              "    }\n",
              "\n",
              "    .dataframe thead th {\n",
              "        text-align: right;\n",
              "    }\n",
              "</style>\n",
              "<table border=\"1\" class=\"dataframe\">\n",
              "  <thead>\n",
              "    <tr style=\"text-align: right;\">\n",
              "      <th></th>\n",
              "      <th>Rk</th>\n",
              "      <th>Squad</th>\n",
              "      <th>Country</th>\n",
              "      <th>LgRk</th>\n",
              "      <th>MP</th>\n",
              "      <th>W</th>\n",
              "      <th>D</th>\n",
              "      <th>L</th>\n",
              "      <th>GF</th>\n",
              "      <th>GA</th>\n",
              "      <th>...</th>\n",
              "      <th>Pts</th>\n",
              "      <th>Pts/G</th>\n",
              "      <th>xG</th>\n",
              "      <th>xGA</th>\n",
              "      <th>xGD</th>\n",
              "      <th>xGD/90</th>\n",
              "      <th>Last 5</th>\n",
              "      <th>Attendance</th>\n",
              "      <th>Top Team Scorer</th>\n",
              "      <th>Goalkeeper</th>\n",
              "    </tr>\n",
              "  </thead>\n",
              "  <tbody>\n",
              "    <tr>\n",
              "      <th>0</th>\n",
              "      <td>1</td>\n",
              "      <td>Manchester City</td>\n",
              "      <td>ENG</td>\n",
              "      <td>1</td>\n",
              "      <td>37</td>\n",
              "      <td>28</td>\n",
              "      <td>6</td>\n",
              "      <td>3</td>\n",
              "      <td>96</td>\n",
              "      <td>24</td>\n",
              "      <td>...</td>\n",
              "      <td>90</td>\n",
              "      <td>2.43</td>\n",
              "      <td>86.1</td>\n",
              "      <td>26.8</td>\n",
              "      <td>59.3</td>\n",
              "      <td>1.60</td>\n",
              "      <td>W W W W D</td>\n",
              "      <td>52739</td>\n",
              "      <td>Kevin De Bruyne - 15</td>\n",
              "      <td>Ederson</td>\n",
              "    </tr>\n",
              "    <tr>\n",
              "      <th>1</th>\n",
              "      <td>2</td>\n",
              "      <td>Liverpool</td>\n",
              "      <td>ENG</td>\n",
              "      <td>2</td>\n",
              "      <td>36</td>\n",
              "      <td>26</td>\n",
              "      <td>8</td>\n",
              "      <td>2</td>\n",
              "      <td>89</td>\n",
              "      <td>24</td>\n",
              "      <td>...</td>\n",
              "      <td>86</td>\n",
              "      <td>2.39</td>\n",
              "      <td>84.6</td>\n",
              "      <td>33.1</td>\n",
              "      <td>51.4</td>\n",
              "      <td>1.43</td>\n",
              "      <td>W W W D W</td>\n",
              "      <td>53367</td>\n",
              "      <td>Mohamed Salah - 22</td>\n",
              "      <td>Alisson</td>\n",
              "    </tr>\n",
              "    <tr>\n",
              "      <th>2</th>\n",
              "      <td>3</td>\n",
              "      <td>Real Madrid</td>\n",
              "      <td>ESP</td>\n",
              "      <td>1</td>\n",
              "      <td>37</td>\n",
              "      <td>26</td>\n",
              "      <td>7</td>\n",
              "      <td>4</td>\n",
              "      <td>80</td>\n",
              "      <td>31</td>\n",
              "      <td>...</td>\n",
              "      <td>85</td>\n",
              "      <td>2.30</td>\n",
              "      <td>73.0</td>\n",
              "      <td>45.8</td>\n",
              "      <td>27.2</td>\n",
              "      <td>0.73</td>\n",
              "      <td>W W L W D</td>\n",
              "      <td>40624</td>\n",
              "      <td>Karim Benzema - 27</td>\n",
              "      <td>Thibaut Courtois</td>\n",
              "    </tr>\n",
              "    <tr>\n",
              "      <th>3</th>\n",
              "      <td>4</td>\n",
              "      <td>Bayern Munich</td>\n",
              "      <td>GER</td>\n",
              "      <td>1</td>\n",
              "      <td>34</td>\n",
              "      <td>24</td>\n",
              "      <td>5</td>\n",
              "      <td>5</td>\n",
              "      <td>97</td>\n",
              "      <td>37</td>\n",
              "      <td>...</td>\n",
              "      <td>77</td>\n",
              "      <td>2.26</td>\n",
              "      <td>88.1</td>\n",
              "      <td>37.1</td>\n",
              "      <td>51.0</td>\n",
              "      <td>1.50</td>\n",
              "      <td>W W L D D</td>\n",
              "      <td>33176</td>\n",
              "      <td>Robert Lewandowski - 35</td>\n",
              "      <td>Manuel Neuer</td>\n",
              "    </tr>\n",
              "    <tr>\n",
              "      <th>4</th>\n",
              "      <td>5</td>\n",
              "      <td>Paris S-G</td>\n",
              "      <td>FRA</td>\n",
              "      <td>1</td>\n",
              "      <td>37</td>\n",
              "      <td>25</td>\n",
              "      <td>8</td>\n",
              "      <td>4</td>\n",
              "      <td>85</td>\n",
              "      <td>36</td>\n",
              "      <td>...</td>\n",
              "      <td>83</td>\n",
              "      <td>2.24</td>\n",
              "      <td>71.6</td>\n",
              "      <td>38.1</td>\n",
              "      <td>33.4</td>\n",
              "      <td>0.90</td>\n",
              "      <td>W D D D W</td>\n",
              "      <td>41188</td>\n",
              "      <td>Kylian Mbappé - 25</td>\n",
              "      <td>Keylor Navas</td>\n",
              "    </tr>\n",
              "    <tr>\n",
              "      <th>...</th>\n",
              "      <td>...</td>\n",
              "      <td>...</td>\n",
              "      <td>...</td>\n",
              "      <td>...</td>\n",
              "      <td>...</td>\n",
              "      <td>...</td>\n",
              "      <td>...</td>\n",
              "      <td>...</td>\n",
              "      <td>...</td>\n",
              "      <td>...</td>\n",
              "      <td>...</td>\n",
              "      <td>...</td>\n",
              "      <td>...</td>\n",
              "      <td>...</td>\n",
              "      <td>...</td>\n",
              "      <td>...</td>\n",
              "      <td>...</td>\n",
              "      <td>...</td>\n",
              "      <td>...</td>\n",
              "      <td>...</td>\n",
              "      <td>...</td>\n",
              "    </tr>\n",
              "    <tr>\n",
              "      <th>93</th>\n",
              "      <td>94</td>\n",
              "      <td>Bordeaux</td>\n",
              "      <td>FRA</td>\n",
              "      <td>20</td>\n",
              "      <td>37</td>\n",
              "      <td>5</td>\n",
              "      <td>13</td>\n",
              "      <td>19</td>\n",
              "      <td>48</td>\n",
              "      <td>89</td>\n",
              "      <td>...</td>\n",
              "      <td>28</td>\n",
              "      <td>0.76</td>\n",
              "      <td>41.3</td>\n",
              "      <td>68.5</td>\n",
              "      <td>-27.2</td>\n",
              "      <td>-0.73</td>\n",
              "      <td>D L L L D</td>\n",
              "      <td>22083</td>\n",
              "      <td>Hwang Ui-jo - 11</td>\n",
              "      <td>Benoît Costil</td>\n",
              "    </tr>\n",
              "    <tr>\n",
              "      <th>94</th>\n",
              "      <td>95</td>\n",
              "      <td>Venezia</td>\n",
              "      <td>ITA</td>\n",
              "      <td>20</td>\n",
              "      <td>37</td>\n",
              "      <td>6</td>\n",
              "      <td>8</td>\n",
              "      <td>23</td>\n",
              "      <td>34</td>\n",
              "      <td>69</td>\n",
              "      <td>...</td>\n",
              "      <td>26</td>\n",
              "      <td>0.70</td>\n",
              "      <td>35.4</td>\n",
              "      <td>70.5</td>\n",
              "      <td>-35.1</td>\n",
              "      <td>-0.95</td>\n",
              "      <td>L L L W D</td>\n",
              "      <td>6705</td>\n",
              "      <td>Thomas Henry - 9</td>\n",
              "      <td>Sergio Romero</td>\n",
              "    </tr>\n",
              "    <tr>\n",
              "      <th>95</th>\n",
              "      <td>96</td>\n",
              "      <td>Watford</td>\n",
              "      <td>ENG</td>\n",
              "      <td>19</td>\n",
              "      <td>37</td>\n",
              "      <td>6</td>\n",
              "      <td>5</td>\n",
              "      <td>26</td>\n",
              "      <td>33</td>\n",
              "      <td>75</td>\n",
              "      <td>...</td>\n",
              "      <td>23</td>\n",
              "      <td>0.62</td>\n",
              "      <td>37.8</td>\n",
              "      <td>64.1</td>\n",
              "      <td>-26.3</td>\n",
              "      <td>-0.71</td>\n",
              "      <td>L L L D L</td>\n",
              "      <td>20614</td>\n",
              "      <td>Emmanuel Dennis - 10</td>\n",
              "      <td>Ben Foster</td>\n",
              "    </tr>\n",
              "    <tr>\n",
              "      <th>96</th>\n",
              "      <td>97</td>\n",
              "      <td>Norwich City</td>\n",
              "      <td>ENG</td>\n",
              "      <td>20</td>\n",
              "      <td>37</td>\n",
              "      <td>5</td>\n",
              "      <td>7</td>\n",
              "      <td>25</td>\n",
              "      <td>23</td>\n",
              "      <td>79</td>\n",
              "      <td>...</td>\n",
              "      <td>22</td>\n",
              "      <td>0.59</td>\n",
              "      <td>33.0</td>\n",
              "      <td>73.3</td>\n",
              "      <td>-40.4</td>\n",
              "      <td>-1.09</td>\n",
              "      <td>L L L L D</td>\n",
              "      <td>26826</td>\n",
              "      <td>Teemu Pukki - 11</td>\n",
              "      <td>Tim Krul</td>\n",
              "    </tr>\n",
              "    <tr>\n",
              "      <th>97</th>\n",
              "      <td>98</td>\n",
              "      <td>Greuther Fürth</td>\n",
              "      <td>GER</td>\n",
              "      <td>18</td>\n",
              "      <td>34</td>\n",
              "      <td>3</td>\n",
              "      <td>9</td>\n",
              "      <td>22</td>\n",
              "      <td>28</td>\n",
              "      <td>82</td>\n",
              "      <td>...</td>\n",
              "      <td>18</td>\n",
              "      <td>0.53</td>\n",
              "      <td>30.7</td>\n",
              "      <td>60.3</td>\n",
              "      <td>-29.6</td>\n",
              "      <td>-0.87</td>\n",
              "      <td>D L D L L</td>\n",
              "      <td>7672</td>\n",
              "      <td>Branimir Hrgota - 9</td>\n",
              "      <td>Sascha Burchert</td>\n",
              "    </tr>\n",
              "  </tbody>\n",
              "</table>\n",
              "<p>98 rows × 21 columns</p>\n",
              "</div>\n",
              "      <button class=\"colab-df-convert\" onclick=\"convertToInteractive('df-c9fc3cd2-2ffa-400b-9246-44da6f96cc1f')\"\n",
              "              title=\"Convert this dataframe to an interactive table.\"\n",
              "              style=\"display:none;\">\n",
              "        \n",
              "  <svg xmlns=\"http://www.w3.org/2000/svg\" height=\"24px\"viewBox=\"0 0 24 24\"\n",
              "       width=\"24px\">\n",
              "    <path d=\"M0 0h24v24H0V0z\" fill=\"none\"/>\n",
              "    <path d=\"M18.56 5.44l.94 2.06.94-2.06 2.06-.94-2.06-.94-.94-2.06-.94 2.06-2.06.94zm-11 1L8.5 8.5l.94-2.06 2.06-.94-2.06-.94L8.5 2.5l-.94 2.06-2.06.94zm10 10l.94 2.06.94-2.06 2.06-.94-2.06-.94-.94-2.06-.94 2.06-2.06.94z\"/><path d=\"M17.41 7.96l-1.37-1.37c-.4-.4-.92-.59-1.43-.59-.52 0-1.04.2-1.43.59L10.3 9.45l-7.72 7.72c-.78.78-.78 2.05 0 2.83L4 21.41c.39.39.9.59 1.41.59.51 0 1.02-.2 1.41-.59l7.78-7.78 2.81-2.81c.8-.78.8-2.07 0-2.86zM5.41 20L4 18.59l7.72-7.72 1.47 1.35L5.41 20z\"/>\n",
              "  </svg>\n",
              "      </button>\n",
              "      \n",
              "  <style>\n",
              "    .colab-df-container {\n",
              "      display:flex;\n",
              "      flex-wrap:wrap;\n",
              "      gap: 12px;\n",
              "    }\n",
              "\n",
              "    .colab-df-convert {\n",
              "      background-color: #E8F0FE;\n",
              "      border: none;\n",
              "      border-radius: 50%;\n",
              "      cursor: pointer;\n",
              "      display: none;\n",
              "      fill: #1967D2;\n",
              "      height: 32px;\n",
              "      padding: 0 0 0 0;\n",
              "      width: 32px;\n",
              "    }\n",
              "\n",
              "    .colab-df-convert:hover {\n",
              "      background-color: #E2EBFA;\n",
              "      box-shadow: 0px 1px 2px rgba(60, 64, 67, 0.3), 0px 1px 3px 1px rgba(60, 64, 67, 0.15);\n",
              "      fill: #174EA6;\n",
              "    }\n",
              "\n",
              "    [theme=dark] .colab-df-convert {\n",
              "      background-color: #3B4455;\n",
              "      fill: #D2E3FC;\n",
              "    }\n",
              "\n",
              "    [theme=dark] .colab-df-convert:hover {\n",
              "      background-color: #434B5C;\n",
              "      box-shadow: 0px 1px 3px 1px rgba(0, 0, 0, 0.15);\n",
              "      filter: drop-shadow(0px 1px 2px rgba(0, 0, 0, 0.3));\n",
              "      fill: #FFFFFF;\n",
              "    }\n",
              "  </style>\n",
              "\n",
              "      <script>\n",
              "        const buttonEl =\n",
              "          document.querySelector('#df-c9fc3cd2-2ffa-400b-9246-44da6f96cc1f button.colab-df-convert');\n",
              "        buttonEl.style.display =\n",
              "          google.colab.kernel.accessAllowed ? 'block' : 'none';\n",
              "\n",
              "        async function convertToInteractive(key) {\n",
              "          const element = document.querySelector('#df-c9fc3cd2-2ffa-400b-9246-44da6f96cc1f');\n",
              "          const dataTable =\n",
              "            await google.colab.kernel.invokeFunction('convertToInteractive',\n",
              "                                                     [key], {});\n",
              "          if (!dataTable) return;\n",
              "\n",
              "          const docLinkHtml = 'Like what you see? Visit the ' +\n",
              "            '<a target=\"_blank\" href=https://colab.research.google.com/notebooks/data_table.ipynb>data table notebook</a>'\n",
              "            + ' to learn more about interactive tables.';\n",
              "          element.innerHTML = '';\n",
              "          dataTable['output_type'] = 'display_data';\n",
              "          await google.colab.output.renderOutput(dataTable, element);\n",
              "          const docLink = document.createElement('div');\n",
              "          docLink.innerHTML = docLinkHtml;\n",
              "          element.appendChild(docLink);\n",
              "        }\n",
              "      </script>\n",
              "    </div>\n",
              "  </div>\n",
              "  "
            ]
          },
          "metadata": {},
          "execution_count": 2
        }
      ],
      "source": [
        "# importing libraries\n",
        "import numpy as np\n",
        "import pandas as pd\n",
        "import matplotlib.pyplot as plt\n",
        "import seaborn as sns\n",
        "from scipy.stats import ttest_ind\n",
        "import warnings\n",
        "\n",
        "warnings.filterwarnings('ignore')\n",
        "\n",
        "path = \"/content/drive/MyDrive/Google Colab DS IT Academy/Sprint 5/Data/Lligues europees UEFA.csv\"\n",
        "df = pd.read_csv(path,encoding=\"ISO-8859-1\",delimiter=\";\", header=0)\n",
        "print(df.info(memory_usage='deep'))\n",
        "df"
      ]
    },
    {
      "cell_type": "markdown",
      "source": [
        "This dataframe contains information about  ranking UEFA football teams, including their squad name, country, league rank, number of matches played, wins, draws, losses, goals scored, goals against, goal difference, points, points per game, expected goals, expected goals against, expected goal difference, expected goal difference per 90 minutes, last five matches, attendance, top team scorer and goalkeeper.\n",
        "- Rk: ranking UEFA\n",
        "- Squad: squad name\n",
        "- Country: country\n",
        "- LgRk: league rank\n",
        "- MP: number of matches played\n",
        "- W: wins\n",
        "- D: draws\n",
        "- L: losses\n",
        "- GF: goals scored\n",
        "- GA: goals against\n",
        "- GD: goal difference\n",
        "- Pts: points\n",
        "- Pts/G: points per game\n",
        "- xG: expected goals\n",
        "- xGA: expected goals against\n",
        "- xGD: expected goal difference\n",
        "- xGD/90: expected goal difference per 90 minutes\n",
        "- Last 5: last five matches performance (W=win, D=draw, L=loose)\n",
        "- Attendance: avg attendance, number of people per match\n",
        "- Top Team Scorer: player name - nember of goals\n",
        "- Goalkeeper: player name"
      ],
      "metadata": {
        "id": "l2r3jtMmek6V"
      }
    },
    {
      "cell_type": "markdown",
      "source": [
        "Select an attribute from the dataset. Calculate the p-value and say whether it rejects the null hypothesis by taking an alpha of 5%.\n",
        "\n",
        "The null hypothesis of the test is that the attirbute 'Pts'(Points) comes from a normal distribution. If the p-value is less than the significance level (alpha, commonly 0.05), we reject the null hypothesis and conclude that the data does not come from a normal distribution.\n",
        "We can perform a test of distribution for the 'Pts' attribute using the shapiro() function from the scipy.stats library. The shapiro() function tests the null hypothesis that the sample came from a normal distribution."
      ],
      "metadata": {
        "id": "Bi-wu8DJSQgy"
      }
    },
    {
      "cell_type": "code",
      "source": [
        "from scipy.stats import shapiro\n",
        "\n",
        "null_hypothesis = \"Points are normally distributed\"\n",
        "alternative_hypothesis = \"Points are NOT normally distributed\"\n",
        "\n",
        "# Get the 'Pts' attribute from the dataframe\n",
        "pts = df['Pts']\n",
        "\n",
        "# Perform the Shapiro-Wilk test\n",
        "stat, p = shapiro(pts)\n",
        "print(stat)\n",
        "print(p)\n",
        "\n",
        "# Set alpha\n",
        "alpha = 0.05\n",
        "\n",
        "# Compare p_value with alpha\n",
        "if p < alpha:\n",
        "    print(\"Reject the null hypothesis.\")\n",
        "    print(null_hypothesis)\n",
        "else:\n",
        "    print(\"Fail to reject the null hypothesis.\")\n",
        "    print(alternative_hypothesis)"
      ],
      "metadata": {
        "colab": {
          "base_uri": "https://localhost:8080/"
        },
        "id": "W5EzKykB8Owf",
        "outputId": "be6754d7-bc67-44c1-9248-b70b92bc47dc"
      },
      "execution_count": 10,
      "outputs": [
        {
          "output_type": "stream",
          "name": "stdout",
          "text": [
            "0.9720419645309448\n",
            "0.03465989604592323\n",
            "Reject the null hypothesis.\n",
            "Points are normally distributed\n"
          ]
        }
      ]
    },
    {
      "cell_type": "code",
      "source": [
        "plt.figure(figsize=(12,8))\n",
        "plt.hist(pts, bins=52, color='blue', label='Points distribution')\n",
        "\n",
        "# add labels and legend\n",
        "plt.xlabel('points')\n",
        "plt.ylabel('Frequency')\n",
        "plt.legend()\n",
        "#\n",
        "# show plot\n",
        "plt.show()\n",
        "\n",
        "print(pts.describe())\n",
        "print(pts.unique())\n"
      ],
      "metadata": {
        "colab": {
          "base_uri": "https://localhost:8080/",
          "height": 705
        },
        "id": "G-Lho9nTAhMK",
        "outputId": "c5aa9b73-d9f2-4031-d1e5-df51421e4965"
      },
      "execution_count": 12,
      "outputs": [
        {
          "output_type": "display_data",
          "data": {
            "text/plain": [
              "<Figure size 864x576 with 1 Axes>"
            ],
            "image/png": "[encoded data removed]"
          },
          "metadata": {
            "needs_background": "light"
          }
        },
        {
          "output_type": "stream",
          "name": "stdout",
          "text": [
            "count    98.000000\n",
            "mean     49.734694\n",
            "std      16.166371\n",
            "min      18.000000\n",
            "25%      37.000000\n",
            "50%      46.000000\n",
            "75%      61.750000\n",
            "max      90.000000\n",
            "Name: Pts, dtype: float64\n",
            "[90 86 85 77 83 81 76 69 73 70 64 68 66 67 65 62 58 63 57 61 59 60 55 52\n",
            " 56 54 51 50 46 48 45 47 42 44 43 38 41 40 39 37 36 33 35 34 32 31 28 29\n",
            " 26 23 22 18]\n"
          ]
        }
      ]
    },
    {
      "cell_type": "markdown",
      "source": [
        "#- Exercise 2\n",
        "\n",
        "With the same dataset select two other attributes from the dataset. Calculate the p-values ​​and say whether they reject the null hypothesis by taking an alpha of 5%."
      ],
      "metadata": {
        "id": "m7Q7tza_6O8O"
      }
    },
    {
      "cell_type": "markdown",
      "source": [
        "Second hypothesis test proposed will be for checking if the team that scores more goals is the one that remains first in the ranking:\n",
        "\n",
        "We will select the \"GF\" (goals in favor) column and the \"Rk\" (ranking) column of the dataset.\n",
        "\n",
        "Then we define our null hypothesis (H0) and alternative (Ha). In this case, the null hypothesis is that there is a relationship between the goals scored and the ranking position, that is to say, the team that scores more goals will not necessarily be first in the ranking. \n",
        "\n",
        "The alternative hypothesis is that there is no relationship between the goals scored and the ranking position, that is to say, the team that scores more goals is more likely to be first in the ranking.\n",
        "\n",
        "We´ll use a statistical test to compare the relationship between the two variables. An option could be to use a Pearson correlation test, which measures the linear relationship between two continuous variables.\n",
        "\n",
        "Then calculate the p-value using the selected statistical test to see if it rejects the null hypothesis or not. The p-value must be lower than the selected significance level (alpha) (in this case, 0.05) to reject the null hypothesis.\n",
        "\n",
        "Finally, we'll interpret the results and conclude whether or not there is a relationship between the goals scored and the ranking."
      ],
      "metadata": {
        "id": "l90NeRPDrqsU"
      }
    },
    {
      "cell_type": "code",
      "source": [
        "from scipy import stats\n",
        "\n",
        "# select columns\n",
        "gf = df[\"GF\"]\n",
        "rk = df[\"Rk\"]\n",
        "\n",
        "# calculate correlation and p-value\n",
        "corr, p_value = stats.pearsonr(gf, rk)\n",
        "\n",
        "# interpret results\n",
        "alpha = 0.05\n",
        "if p_value > alpha:\n",
        "    print(\"The null hypothesis is not rejected, there is a relationship between goals scored and ranking (p-value = {:.3f})\".format(p_value))\n",
        "else:\n",
        "    print(\"The null hypothesis is rejected, there is no relationship between goals scored and ranking (p-value = {:.3f})\".format(p_value))\n"
      ],
      "metadata": {
        "colab": {
          "base_uri": "https://localhost:8080/"
        },
        "id": "QrgJgPIhSehP",
        "outputId": "297856ac-df0e-4a1c-8e88-62097198a331"
      },
      "execution_count": 9,
      "outputs": [
        {
          "output_type": "stream",
          "name": "stdout",
          "text": [
            "The null hypothesis is rejected, there is no relationship between goals scored and ranking (p-value = 0.000)\n"
          ]
        }
      ]
    },
    {
      "cell_type": "code",
      "source": [
        "# Create a scatter plot with seaborn\n",
        "fig, ax = plt.subplots(figsize=(12,8))\n",
        "sns.scatterplot(x='Rk', y='GF', data=df)\n",
        "# Add labels and show plot\n",
        "plt.xlabel('Ranking')\n",
        "plt.ylabel('Goals Scored')\n",
        "plt.show()"
      ],
      "metadata": {
        "colab": {
          "base_uri": "https://localhost:8080/",
          "height": 497
        },
        "id": "LRqmkXNriS35",
        "outputId": "e90bda67-2456-444c-f47e-71d50fec663b"
      },
      "execution_count": 6,
      "outputs": [
        {
          "output_type": "display_data",
          "data": {
            "text/plain": [
              "<Figure size 864x576 with 1 Axes>"
            ],
            "image/png": "[encoded data removed]"
          },
          "metadata": {
            "needs_background": "light"
          }
        }
      ]
    },
    {
      "cell_type": "markdown",
      "source": [
        "#- Exercise 3\n",
        "\n",
        "Continue with the attached dataset and select three attributes. Calculate the p-value and say whether it rejects the null hypothesis by taking an alpha of 5%.\n",
        "In this case the 3 attributes that will be analyzed are the highest-scoring top goal scorer, match attendance and ranking position."
      ],
      "metadata": {
        "id": "IonjpxAz6SDG"
      }
    },
    {
      "cell_type": "markdown",
      "source": [
        "The null hypothesis is that the team with the highest-scoring top goal scorer and the most attendance not necesarily will have the best ranking position."
      ],
      "metadata": {
        "id": "CRHBlAOWoxIk"
      }
    },
    {
      "cell_type": "markdown",
      "source": [
        "We will first extract the number of goals scored from the 'Top Team Scorer' column, then will compute the correlation between goals scored, attendance, and ranking position using the spearman method. Then, we will print the results of the test, including the correlation coefficient and the p-value, and decide if the null hypothesis is rejected or not."
      ],
      "metadata": {
        "id": "IX7ZyyMVoZVD"
      }
    },
    {
      "cell_type": "code",
      "source": [
        "# Extract the number of goals scored from the 'Top Team Scorer' column\n",
        "df['goals'] = df['Top Team Scorer'].str.extract('(\\d+)').astype(int)\n",
        "\n",
        "# Compute the correlation between goals scored, attendance, and ranking position\n",
        "corr_goals_attendance = df[['goals','Attendance','Rk']].corr()\n",
        "print(corr_goals_attendance)\n",
        "\n",
        "# Set the null and alternative hypotheses\n",
        "ho = \"There is no correlation between goals scored, attendance, and ranking position\"\n",
        "ha = \"There is a correlation between goals scored, attendance, and ranking position\"\n",
        "\n",
        "# Perform a correlation test using the spearman method\n",
        "coef, p = stats.spearmanr(df['goals'],df['Attendance'])\n",
        "\n",
        "# Print the results of the test\n",
        "print(\"Correlation coefficient: {:.3f}\".format(coef))\n",
        "print(\"p-value: {:.3f}\".format(p))\n",
        "\n",
        "# Set the alpha level\n",
        "alpha = 0.05\n",
        "\n",
        "# Decide if we reject or fail to reject the null hypothesis\n",
        "if p < alpha:\n",
        "    print(\"We reject the null hypothesis and accept the alternative hypothesis: \", ha)\n",
        "else:\n",
        "    print(\"We fail to reject the null hypothesis: \", ho)\n"
      ],
      "metadata": {
        "colab": {
          "base_uri": "https://localhost:8080/"
        },
        "id": "1ujL1RyUOjRj",
        "outputId": "892f1f21-7308-4c10-d9fb-952ade7e6393"
      },
      "execution_count": 7,
      "outputs": [
        {
          "output_type": "stream",
          "name": "stdout",
          "text": [
            "               goals  Attendance        Rk\n",
            "goals       1.000000    0.274552 -0.585295\n",
            "Attendance  0.274552    1.000000 -0.542683\n",
            "Rk         -0.585295   -0.542683  1.000000\n",
            "Correlation coefficient: 0.256\n",
            "p-value: 0.011\n",
            "We reject the null hypothesis and accept the alternative hypothesis:  There is a correlation between goals scored, attendance, and ranking position\n"
          ]
        }
      ]
    },
    {
      "cell_type": "markdown",
      "source": [
        "Finally, we will create a scatter plot to visualize the relationship between goals scored, attendance, and ranking position, where the color of the points represent the ranking position of the team."
      ],
      "metadata": {
        "id": "Btr-SV8NokwS"
      }
    },
    {
      "cell_type": "code",
      "source": [
        "# Create a scatter plot to visualize the relationship between goals scored, attendance, and ranking position\n",
        "fig, ax = plt.subplots(figsize=(12,8))\n",
        "plt.scatter(df['goals'], df['Attendance'], c=df['Rk'], cmap='rainbow')\n",
        "plt.xlabel(\"Goals Scored\")\n",
        "plt.ylabel(\"Attendance\")\n",
        "plt.colorbar(label=\"Ranking Position\")\n",
        "plt.show()"
      ],
      "metadata": {
        "colab": {
          "base_uri": "https://localhost:8080/",
          "height": 497
        },
        "id": "h2kJHDdvM1Y4",
        "outputId": "4cab12cf-155b-4a1e-d097-65788ce9c48a"
      },
      "execution_count": 8,
      "outputs": [
        {
          "output_type": "display_data",
          "data": {
            "text/plain": [
              "<Figure size 864x576 with 2 Axes>"
            ],
            "image/png": "[encoded data removed]"
          },
          "metadata": {
            "needs_background": "light"
          }
        }
      ]
    }
  ]
}